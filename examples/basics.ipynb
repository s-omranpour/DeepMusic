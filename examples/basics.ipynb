{
 "cells": [
  {
   "cell_type": "code",
   "execution_count": 1,
   "id": "separated-morrison",
   "metadata": {},
   "outputs": [],
   "source": [
    "import matplotlib.pyplot as plt\n",
    "import numpy as np\n",
    "from deepmusic import Music, Track, MusicConfig, utils"
   ]
  },
  {
   "cell_type": "markdown",
   "id": "accessible-emphasis",
   "metadata": {},
   "source": [
    "## config"
   ]
  },
  {
   "cell_type": "code",
   "execution_count": 2,
   "id": "eleven-patent",
   "metadata": {},
   "outputs": [
    {
     "data": {
      "text/plain": [
       "MusicConfig(unit=4, time_signature=(4, 4), tick_resol=120, min_tempo=40, max_tempo=200, num_tempo_bins=20, num_velocity_bins=20)"
      ]
     },
     "execution_count": 2,
     "metadata": {},
     "output_type": "execute_result"
    }
   ],
   "source": [
    "config = MusicConfig(\n",
    "    unit=4,\n",
    "    min_tempo=40,\n",
    "    max_tempo=200,\n",
    "    num_tempo_bins=20, \n",
    "    num_velocity_bins=20\n",
    ")\n",
    "config"
   ]
  },
  {
   "cell_type": "markdown",
   "id": "hearing-subject",
   "metadata": {},
   "source": [
    "## midi representation"
   ]
  },
  {
   "cell_type": "code",
   "execution_count": 3,
   "id": "beginning-tragedy",
   "metadata": {},
   "outputs": [
    {
     "data": {
      "text/plain": [
       "Music(\n",
       "  name=\"assets/test.mid\", \n",
       "  bars=76,\n",
       "  tracks=[\n",
       "    Track(inst_family=bass, program=32, name=\"Bass / Acoust.\", notes=182, bars=76)\n",
       "    Track(inst_family=piano, program=0, name=\"Piano 1\", notes=990, bars=76)\n",
       "    Track(inst_family=piano, program=0, name=\"Melody / Piano 1\", notes=440, bars=73)\n",
       "    Track(inst_family=ensemble, program=49, name=\"Strings (BB)\", notes=65, bars=75)\n",
       "    Track(inst_family=guitar, program=24, name=\"Guitar / Nylon \", notes=368, bars=76)\n",
       "    Track(inst_family=drums, program=168, name=\"Drums / Brush\", notes=1344, bars=76)\n",
       "  ],\n",
       "  tempos=[\n",
       "    TempoEvent(bar=0, beat=0, tempo=10)\n",
       "    ...\n",
       "  ],\n",
       "  chords=[\n",
       "    ChordEvent(bar=2, beat=0, chord=G_M7)\n",
       "    ...\n",
       "  ]\n",
       ")"
      ]
     },
     "execution_count": 3,
     "metadata": {},
     "output_type": "execute_result"
    }
   ],
   "source": [
    "seq = Music.from_file(\n",
    "    'assets/test.mid', \n",
    "    unit=4,\n",
    "    min_tempo=40,\n",
    "    max_tempo=200,\n",
    "    num_tempo_bins=20, \n",
    "    num_velocity_bins=20\n",
    ")\n",
    "seq"
   ]
  },
  {
   "cell_type": "code",
   "execution_count": 4,
   "id": "cardiovascular-notebook",
   "metadata": {},
   "outputs": [
    {
     "data": {
      "text/plain": [
       "True"
      ]
     },
     "execution_count": 4,
     "metadata": {},
     "output_type": "execute_result"
    }
   ],
   "source": [
    "seq.config == config"
   ]
  },
  {
   "cell_type": "markdown",
   "id": "supposed-herald",
   "metadata": {},
   "source": [
    "### splitting bars"
   ]
  },
  {
   "cell_type": "code",
   "execution_count": 5,
   "id": "balanced-exposure",
   "metadata": {},
   "outputs": [
    {
     "data": {
      "text/plain": [
       "76"
      ]
     },
     "execution_count": 5,
     "metadata": {},
     "output_type": "execute_result"
    }
   ],
   "source": [
    "seq.get_bar_count()"
   ]
  },
  {
   "cell_type": "code",
   "execution_count": 6,
   "id": "extra-attitude",
   "metadata": {
    "scrolled": true
   },
   "outputs": [],
   "source": [
    "bars = seq.get_bars()\n",
    "## dictionary"
   ]
  },
  {
   "cell_type": "code",
   "execution_count": 7,
   "id": "wireless-gathering",
   "metadata": {},
   "outputs": [
    {
     "data": {
      "text/plain": [
       "(Music(\n",
       "   name=\"assets/test.mid - Bar No. 0\", \n",
       "   bars=1,\n",
       "   tracks=[],\n",
       "   tempos=[\n",
       "     TempoEvent(bar=0, beat=0, tempo=10)\n",
       "     ...\n",
       "   ],\n",
       "   chords=[]\n",
       " ),\n",
       " Music(\n",
       "   name=\"assets/test.mid - Bar No. 1\", \n",
       "   bars=1,\n",
       "   tracks=[\n",
       "     Track(inst_family=piano, program=0, name=\"Melody / Piano 1\", notes=6, bars=1)\n",
       "   ],\n",
       "   tempos=[],\n",
       "   chords=[]\n",
       " ),\n",
       " Music(\n",
       "   name=\"assets/test.mid - Bar No. 2\", \n",
       "   bars=1,\n",
       "   tracks=[\n",
       "     Track(inst_family=bass, program=32, name=\"Bass / Acoust.\", notes=2, bars=1)\n",
       "     Track(inst_family=piano, program=0, name=\"Piano 1\", notes=16, bars=1)\n",
       "     Track(inst_family=piano, program=0, name=\"Melody / Piano 1\", notes=6, bars=1)\n",
       "     Track(inst_family=guitar, program=24, name=\"Guitar / Nylon \", notes=4, bars=1)\n",
       "     Track(inst_family=drums, program=168, name=\"Drums / Brush\", notes=14, bars=1)\n",
       "   ],\n",
       "   tempos=[],\n",
       "   chords=[\n",
       "     ChordEvent(bar=0, beat=0, chord=G_M7)\n",
       "     ...\n",
       "   ]\n",
       " ))"
      ]
     },
     "execution_count": 7,
     "metadata": {},
     "output_type": "execute_result"
    }
   ],
   "source": [
    "bars[0], bars[1], bars[2]"
   ]
  },
  {
   "cell_type": "markdown",
   "id": "centered-memphis",
   "metadata": {},
   "source": [
    "## concatenating bars"
   ]
  },
  {
   "cell_type": "code",
   "execution_count": 8,
   "id": "middle-wiring",
   "metadata": {},
   "outputs": [
    {
     "data": {
      "text/plain": [
       "Music(\n",
       "  name=\"Concatented : assets/test.mid - Bar No. 0, assets/test.mid - Bar No. 1, , assets/test.mid - Bar No. 2\", \n",
       "  bars=4,\n",
       "  tracks=[\n",
       "    Track(inst_family=bass, program=32, name=\"Bass / Acoust.\", notes=2, bars=4)\n",
       "    Track(inst_family=drums, program=168, name=\"Drums / Brush\", notes=14, bars=4)\n",
       "    Track(inst_family=guitar, program=24, name=\"Guitar / Nylon \", notes=4, bars=4)\n",
       "    Track(inst_family=piano, program=0, name=\"Melody / Piano 1\", notes=12, bars=4)\n",
       "    Track(inst_family=piano, program=0, name=\"Piano 1\", notes=16, bars=4)\n",
       "  ],\n",
       "  tempos=[\n",
       "    TempoEvent(bar=0, beat=0, tempo=10)\n",
       "    ...\n",
       "  ],\n",
       "  chords=[\n",
       "    ChordEvent(bar=3, beat=0, chord=G_M7)\n",
       "    ...\n",
       "  ]\n",
       ")"
      ]
     },
     "execution_count": 8,
     "metadata": {},
     "output_type": "execute_result"
    }
   ],
   "source": [
    "seq2 = Music.concatenate([bars[0], bars[1], Music(config=config), bars[2]], merge_similar_tracks=True)\n",
    "## empty music is treated as a single empty bar\n",
    "seq2"
   ]
  },
  {
   "cell_type": "markdown",
   "id": "narrow-catalog",
   "metadata": {},
   "source": [
    "## Slicing"
   ]
  },
  {
   "cell_type": "markdown",
   "id": "handed-mouse",
   "metadata": {},
   "source": [
    "### bar index"
   ]
  },
  {
   "cell_type": "code",
   "execution_count": 9,
   "id": "considered-athens",
   "metadata": {
    "scrolled": true
   },
   "outputs": [],
   "source": [
    "seq2 = seq.slice_by_bar(1,2)"
   ]
  },
  {
   "cell_type": "code",
   "execution_count": 10,
   "id": "acoustic-economics",
   "metadata": {},
   "outputs": [
    {
     "data": {
      "text/plain": [
       "True"
      ]
     },
     "execution_count": 10,
     "metadata": {},
     "output_type": "execute_result"
    }
   ],
   "source": [
    "seq2 == bars[1]"
   ]
  },
  {
   "cell_type": "markdown",
   "id": "thick-removal",
   "metadata": {},
   "source": [
    "### beat index"
   ]
  },
  {
   "cell_type": "code",
   "execution_count": 11,
   "id": "latter-peninsula",
   "metadata": {
    "scrolled": true
   },
   "outputs": [
    {
     "name": "stdout",
     "output_type": "stream",
     "text": [
      "True\n"
     ]
    }
   ],
   "source": [
    "seq2 = seq.slice_by_beat(32, 48)\n",
    "print(seq2 == bars[2])"
   ]
  },
  {
   "cell_type": "markdown",
   "id": "patent-adrian",
   "metadata": {},
   "source": [
    "## track manipulation"
   ]
  },
  {
   "cell_type": "markdown",
   "id": "literary-oracle",
   "metadata": {},
   "source": [
    "### remove instruments"
   ]
  },
  {
   "cell_type": "code",
   "execution_count": 12,
   "id": "indonesian-store",
   "metadata": {},
   "outputs": [
    {
     "data": {
      "text/plain": [
       "Music(\n",
       "  name=\"assets/test.mid\", \n",
       "  bars=76,\n",
       "  tracks=[\n",
       "    Track(inst_family=bass, program=32, name=\"Bass / Acoust.\", notes=182, bars=76)\n",
       "    Track(inst_family=ensemble, program=49, name=\"Strings (BB)\", notes=65, bars=75)\n",
       "    Track(inst_family=guitar, program=24, name=\"Guitar / Nylon \", notes=368, bars=76)\n",
       "    Track(inst_family=drums, program=168, name=\"Drums / Brush\", notes=1344, bars=76)\n",
       "  ],\n",
       "  tempos=[\n",
       "    TempoEvent(bar=0, beat=0, tempo=10)\n",
       "    ...\n",
       "  ],\n",
       "  chords=[\n",
       "    ChordEvent(bar=2, beat=0, chord=G_M7)\n",
       "    ...\n",
       "  ]\n",
       ")"
      ]
     },
     "execution_count": 12,
     "metadata": {},
     "output_type": "execute_result"
    }
   ],
   "source": [
    "seq_t = seq.remove_tracks(programs=[0])\n",
    "seq_t"
   ]
  },
  {
   "cell_type": "code",
   "execution_count": 13,
   "id": "thousand-extraction",
   "metadata": {},
   "outputs": [
    {
     "data": {
      "text/plain": [
       "Music(\n",
       "  name=\"assets/test.mid\", \n",
       "  bars=76,\n",
       "  tracks=[\n",
       "    Track(inst_family=bass, program=32, name=\"Bass / Acoust.\", notes=182, bars=76)\n",
       "    Track(inst_family=ensemble, program=49, name=\"Strings (BB)\", notes=65, bars=75)\n",
       "    Track(inst_family=guitar, program=24, name=\"Guitar / Nylon \", notes=368, bars=76)\n",
       "    Track(inst_family=drums, program=168, name=\"Drums / Brush\", notes=1344, bars=76)\n",
       "  ],\n",
       "  tempos=[\n",
       "    TempoEvent(bar=0, beat=0, tempo=10)\n",
       "    ...\n",
       "  ],\n",
       "  chords=[\n",
       "    ChordEvent(bar=2, beat=0, chord=G_M7)\n",
       "    ...\n",
       "  ]\n",
       ")"
      ]
     },
     "execution_count": 13,
     "metadata": {},
     "output_type": "execute_result"
    }
   ],
   "source": [
    "seq1 = seq.remove_tracks(inst_families=['piano'], inplace=False)\n",
    "seq1"
   ]
  },
  {
   "cell_type": "markdown",
   "id": "outdoor-celebrity",
   "metadata": {},
   "source": [
    "### keep instruments"
   ]
  },
  {
   "cell_type": "code",
   "execution_count": 14,
   "id": "italic-webster",
   "metadata": {},
   "outputs": [
    {
     "data": {
      "text/plain": [
       "Music(\n",
       "  name=\"assets/test.mid\", \n",
       "  bars=76,\n",
       "  tracks=[\n",
       "    Track(inst_family=piano, program=0, name=\"Piano 1\", notes=990, bars=76)\n",
       "    Track(inst_family=piano, program=0, name=\"Melody / Piano 1\", notes=440, bars=73)\n",
       "  ],\n",
       "  tempos=[\n",
       "    TempoEvent(bar=0, beat=0, tempo=10)\n",
       "    ...\n",
       "  ],\n",
       "  chords=[\n",
       "    ChordEvent(bar=2, beat=0, chord=G_M7)\n",
       "    ...\n",
       "  ]\n",
       ")"
      ]
     },
     "execution_count": 14,
     "metadata": {},
     "output_type": "execute_result"
    }
   ],
   "source": [
    "seq2 = seq.keep_tracks(programs=[0], inplace=False)\n",
    "seq2"
   ]
  },
  {
   "cell_type": "markdown",
   "id": "worth-split",
   "metadata": {},
   "source": [
    "### Merge"
   ]
  },
  {
   "cell_type": "code",
   "execution_count": 15,
   "id": "aggregate-russell",
   "metadata": {},
   "outputs": [
    {
     "data": {
      "text/plain": [
       "True"
      ]
     },
     "execution_count": 15,
     "metadata": {},
     "output_type": "execute_result"
    }
   ],
   "source": [
    "seq_t = Music.merge([seq1, seq2], merge_similar_programs=True)\n",
    "seq_t == seq"
   ]
  },
  {
   "cell_type": "markdown",
   "id": "joined-anderson",
   "metadata": {},
   "source": [
    "### clean"
   ]
  },
  {
   "cell_type": "code",
   "execution_count": 16,
   "id": "noted-remainder",
   "metadata": {},
   "outputs": [],
   "source": [
    "\"\"\"\n",
    "1. remove duplicate and invalid tempos and chords and sort them\n",
    "2. clean each track\n",
    "3. remove empty tracks\n",
    "\"\"\"\n",
    "\n",
    "seq.clean()"
   ]
  },
  {
   "cell_type": "markdown",
   "id": "twenty-client",
   "metadata": {},
   "source": [
    "### adding empty bars at the beginning"
   ]
  },
  {
   "cell_type": "code",
   "execution_count": 26,
   "id": "early-symphony",
   "metadata": {},
   "outputs": [
    {
     "data": {
      "text/plain": [
       "Music(\n",
       "  name=\"assets/test.mid\", \n",
       "  bars=77,\n",
       "  tracks=[\n",
       "    Track(inst_family=bass, program=32, name=\"Bass / Acoust.\", notes=182, bars=77)\n",
       "    Track(inst_family=piano, program=0, name=\"Piano 1\", notes=990, bars=77)\n",
       "    Track(inst_family=piano, program=0, name=\"Melody / Piano 1\", notes=440, bars=74)\n",
       "    Track(inst_family=ensemble, program=49, name=\"Strings (BB)\", notes=65, bars=76)\n",
       "    Track(inst_family=guitar, program=24, name=\"Guitar / Nylon \", notes=368, bars=77)\n",
       "    Track(inst_family=drums, program=168, name=\"Drums / Brush\", notes=1344, bars=77)\n",
       "  ],\n",
       "  tempos=[\n",
       "    TempoEvent(bar=1, beat=0, tempo=10)\n",
       "    ...\n",
       "  ],\n",
       "  chords=[\n",
       "    ChordEvent(bar=3, beat=0, chord=G_M7)\n",
       "    ...\n",
       "  ]\n",
       ")"
      ]
     },
     "execution_count": 26,
     "metadata": {},
     "output_type": "execute_result"
    }
   ],
   "source": [
    "seq_t = seq.pad_left(n=1, inplace=False)\n",
    "seq_t"
   ]
  },
  {
   "cell_type": "markdown",
   "id": "spatial-netherlands",
   "metadata": {},
   "source": [
    "### remove starting silence"
   ]
  },
  {
   "cell_type": "code",
   "execution_count": 27,
   "id": "perceived-courtesy",
   "metadata": {},
   "outputs": [
    {
     "data": {
      "text/plain": [
       "True"
      ]
     },
     "execution_count": 27,
     "metadata": {},
     "output_type": "execute_result"
    }
   ],
   "source": [
    "seq_t = seq_t.remove_starting_silent_bars()\n",
    "seq_t == seq"
   ]
  },
  {
   "cell_type": "markdown",
   "id": "knowing-hamilton",
   "metadata": {},
   "source": [
    "### pitch transpose"
   ]
  },
  {
   "cell_type": "code",
   "execution_count": 18,
   "id": "straight-battery",
   "metadata": {},
   "outputs": [
    {
     "data": {
      "text/plain": [
       "Music(\n",
       "  name=\"assets/test.mid\", \n",
       "  bars=76,\n",
       "  tracks=[\n",
       "    Track(inst_family=bass, program=32, name=\"Bass / Acoust.\", notes=182, bars=76)\n",
       "    Track(inst_family=piano, program=0, name=\"Piano 1\", notes=990, bars=76)\n",
       "    Track(inst_family=piano, program=0, name=\"Melody / Piano 1\", notes=440, bars=73)\n",
       "    Track(inst_family=ensemble, program=49, name=\"Strings (BB)\", notes=65, bars=75)\n",
       "    Track(inst_family=guitar, program=24, name=\"Guitar / Nylon \", notes=368, bars=76)\n",
       "    Track(inst_family=drums, program=168, name=\"Drums / Brush\", notes=1344, bars=76)\n",
       "  ],\n",
       "  tempos=[\n",
       "    TempoEvent(bar=0, beat=0, tempo=10)\n",
       "    ...\n",
       "  ],\n",
       "  chords=[\n",
       "    ChordEvent(bar=2, beat=0, chord=A_M7)\n",
       "    ...\n",
       "  ]\n",
       ")"
      ]
     },
     "execution_count": 18,
     "metadata": {},
     "output_type": "execute_result"
    }
   ],
   "source": [
    "seq_t = seq.transpose(n=2, inplace=False)\n",
    "seq_t"
   ]
  },
  {
   "cell_type": "code",
   "execution_count": 19,
   "id": "white-highlight",
   "metadata": {},
   "outputs": [
    {
     "data": {
      "text/plain": [
       "(ChordEvent(bar=2, beat=0, chord=A_M7), ChordEvent(bar=2, beat=0, chord=G_M7))"
      ]
     },
     "execution_count": 19,
     "metadata": {},
     "output_type": "execute_result"
    }
   ],
   "source": [
    "seq_t.chords[0], seq.chords[0]"
   ]
  },
  {
   "cell_type": "code",
   "execution_count": 20,
   "id": "illegal-beast",
   "metadata": {},
   "outputs": [
    {
     "data": {
      "text/plain": [
       "(NoteEvent(bar=2, beat=0, pitch=45, duration=8, velocity=11),\n",
       " NoteEvent(bar=2, beat=0, pitch=43, duration=8, velocity=11))"
      ]
     },
     "execution_count": 20,
     "metadata": {},
     "output_type": "execute_result"
    }
   ],
   "source": [
    "seq_t.tracks[0][0], seq.tracks[0][0]"
   ]
  },
  {
   "cell_type": "markdown",
   "id": "improved-illustration",
   "metadata": {},
   "source": [
    "## exporting"
   ]
  },
  {
   "cell_type": "markdown",
   "id": "funded-fight",
   "metadata": {},
   "source": [
    "### pianoroll"
   ]
  },
  {
   "cell_type": "code",
   "execution_count": 22,
   "id": "incorporate-given",
   "metadata": {},
   "outputs": [
    {
     "name": "stdout",
     "output_type": "stream",
     "text": [
      "(32, 'Bass / Acoust.') (128, 1216)\n",
      "(0, 'Piano 1') (128, 1216)\n",
      "(0, 'Melody / Piano 1') (128, 1168)\n",
      "(49, 'Strings (BB)') (128, 1200)\n",
      "(24, 'Guitar / Nylon ') (128, 1216)\n",
      "(168, 'Drums / Brush') (128, 1216)\n"
     ]
    }
   ],
   "source": [
    "pianoroll = seq.to_pianoroll(binarize=True)\n",
    "for k, v in pianoroll.items():\n",
    "    print(k, v.shape)"
   ]
  },
  {
   "cell_type": "code",
   "execution_count": 28,
   "id": "stone-counter",
   "metadata": {},
   "outputs": [
    {
     "data": {
      "image/png": "[encoded data removed]",
      "text/plain": [
       "<Figure size 1440x1296 with 6 Axes>"
      ]
     },
     "metadata": {
      "needs_background": "light"
     },
     "output_type": "display_data"
    }
   ],
   "source": [
    "plt.figure(figsize=(20, len(pianoroll)*3))\n",
    "for i, inst in enumerate(pianoroll):\n",
    "    plt.subplot(len(pianoroll), 1, i+1)\n",
    "    plt.title(inst)\n",
    "    plt.imshow(pianoroll[inst], origin='lower')\n",
    "plt.show()"
   ]
  },
  {
   "cell_type": "markdown",
   "id": "duplicate-girlfriend",
   "metadata": {},
   "source": [
    "### midi"
   ]
  },
  {
   "cell_type": "code",
   "execution_count": 24,
   "id": "reserved-article",
   "metadata": {},
   "outputs": [
    {
     "data": {
      "text/plain": [
       "ticks per beat: 120\n",
       "max tick: 36390\n",
       "tempo changes: 2\n",
       "time sig: 1\n",
       "key sig: 0\n",
       "markers: 70\n",
       "lyrics: False\n",
       "instruments: 6"
      ]
     },
     "execution_count": 24,
     "metadata": {},
     "output_type": "execute_result"
    }
   ],
   "source": [
    "midi = seq.to_midi('assets/rec_test.mid')\n",
    "midi"
   ]
  },
  {
   "cell_type": "markdown",
   "id": "solid-borough",
   "metadata": {},
   "source": [
    "### tokens"
   ]
  },
  {
   "cell_type": "code",
   "execution_count": 31,
   "id": "broad-transmission",
   "metadata": {},
   "outputs": [
    {
     "data": {
      "text/plain": [
       "['Bar',\n",
       " 'Beat_0',\n",
       " 'Tempo_10',\n",
       " 'Beat_9',\n",
       " 'Tempo_7',\n",
       " 'Bar',\n",
       " 'Beat_4',\n",
       " 'NoteInstrument_0',\n",
       " 'NotePitch_64',\n",
       " 'NoteDuration_1',\n",
       " 'NoteVelocity_16',\n",
       " 'Beat_5',\n",
       " 'NoteInstrument_0',\n",
       " 'NotePitch_65',\n",
       " 'NoteDuration_1',\n",
       " 'NoteVelocity_13',\n",
       " 'Beat_7',\n",
       " 'NoteInstrument_0',\n",
       " 'NotePitch_67',\n",
       " 'NoteDuration_3',\n",
       " 'NoteVelocity_13']"
      ]
     },
     "execution_count": 31,
     "metadata": {},
     "output_type": "execute_result"
    }
   ],
   "source": [
    "toks = seq.to_tokens(\n",
    "    add_tempo=True, \n",
    "    add_chord=True, \n",
    "    add_instrument_token=True, \n",
    "    add_velocity_token=True, \n",
    "    return_indices=False, \n",
    "    add_bos=False, \n",
    "    add_eos=False\n",
    ")\n",
    "toks[:21]"
   ]
  },
  {
   "cell_type": "markdown",
   "id": "finished-weather",
   "metadata": {},
   "source": [
    "### tuples"
   ]
  },
  {
   "cell_type": "code",
   "execution_count": 32,
   "id": "rolled-horse",
   "metadata": {},
   "outputs": [
    {
     "data": {
      "text/plain": [
       "(3460, 8)"
      ]
     },
     "execution_count": 32,
     "metadata": {},
     "output_type": "execute_result"
    }
   ],
   "source": [
    "tuples = seq.to_tuples()\n",
    "tuples.shape"
   ]
  },
  {
   "cell_type": "code",
   "execution_count": 33,
   "id": "legislative-graduate",
   "metadata": {},
   "outputs": [
    {
     "data": {
      "text/plain": [
       "3461"
      ]
     },
     "execution_count": 33,
     "metadata": {},
     "output_type": "execute_result"
    }
   ],
   "source": [
    "seq.get_num_notes()+ len(seq.tempos) + len(seq.chords)"
   ]
  },
  {
   "cell_type": "code",
   "execution_count": 34,
   "id": "united-jamaica",
   "metadata": {},
   "outputs": [
    {
     "data": {
      "text/plain": [
       "array([[ 0.,  0., 11.,  0.,  0.,  0.,  0.,  0.],\n",
       "       [ 0.,  9.,  8.,  0.,  0.,  0.,  0.,  0.],\n",
       "       [ 1.,  4.,  0.,  0., 64.,  1., 16.,  1.],\n",
       "       [ 1.,  5.,  0.,  0., 65.,  1., 13.,  1.],\n",
       "       [ 1.,  7.,  0.,  0., 67.,  3., 13.,  1.],\n",
       "       [ 1., 11.,  0.,  0., 64.,  3., 11.,  1.],\n",
       "       [ 1., 13.,  0.,  0., 65.,  1., 12.,  1.],\n",
       "       [ 1., 14.,  0.,  0., 64.,  1., 14.,  1.],\n",
       "       [ 2.,  0.,  0., 83.,  0.,  0.,  0.,  0.],\n",
       "       [ 2.,  0.,  0.,  0., 43.,  8., 11., 33.]])"
      ]
     },
     "execution_count": 34,
     "metadata": {},
     "output_type": "execute_result"
    }
   ],
   "source": [
    "tuples[:10]"
   ]
  },
  {
   "cell_type": "markdown",
   "id": "architectural-version",
   "metadata": {},
   "source": [
    "## Importing"
   ]
  },
  {
   "cell_type": "markdown",
   "id": "aboriginal-rainbow",
   "metadata": {},
   "source": [
    "### from pianoroll"
   ]
  },
  {
   "cell_type": "code",
   "execution_count": 35,
   "id": "inclusive-appeal",
   "metadata": {},
   "outputs": [
    {
     "data": {
      "text/plain": [
       "Music(\n",
       "  name=\"\", \n",
       "  bars=76,\n",
       "  tracks=[\n",
       "    Track(inst_family=bass, program=32, name=\"Bass / Acoust.\", notes=179, bars=76)\n",
       "    Track(inst_family=piano, program=0, name=\"Piano 1\", notes=969, bars=76)\n",
       "    Track(inst_family=piano, program=0, name=\"Melody / Piano 1\", notes=401, bars=73)\n",
       "    Track(inst_family=ensemble, program=49, name=\"Strings (BB)\", notes=55, bars=75)\n",
       "    Track(inst_family=guitar, program=24, name=\"Guitar / Nylon \", notes=368, bars=76)\n",
       "    Track(inst_family=drums, program=168, name=\"Drums / Brush\", notes=1033, bars=76)\n",
       "  ],\n",
       "  tempos=[],\n",
       "  chords=[]\n",
       ")"
      ]
     },
     "execution_count": 35,
     "metadata": {},
     "output_type": "execute_result"
    }
   ],
   "source": [
    "seq_t = Music.from_pianoroll(pianoroll, config=config)\n",
    "seq_t"
   ]
  },
  {
   "cell_type": "code",
   "execution_count": 36,
   "id": "charged-schedule",
   "metadata": {},
   "outputs": [
    {
     "data": {
      "text/plain": [
       "True"
      ]
     },
     "execution_count": 36,
     "metadata": {},
     "output_type": "execute_result"
    }
   ],
   "source": [
    "seq_t.get_bar_count() == seq.get_bar_count()"
   ]
  },
  {
   "cell_type": "markdown",
   "id": "ethical-restoration",
   "metadata": {},
   "source": [
    "### from cp"
   ]
  },
  {
   "cell_type": "code",
   "execution_count": 37,
   "id": "younger-details",
   "metadata": {},
   "outputs": [
    {
     "data": {
      "text/plain": [
       "Music(\n",
       "  name=\"\", \n",
       "  bars=76,\n",
       "  tracks=[\n",
       "    Track(inst_family=piano, program=0, name=\"\", notes=1429, bars=76)\n",
       "    Track(inst_family=bass, program=32, name=\"\", notes=182, bars=76)\n",
       "    Track(inst_family=drums, program=168, name=\"\", notes=1344, bars=76)\n",
       "    Track(inst_family=ensemble, program=49, name=\"\", notes=65, bars=75)\n",
       "    Track(inst_family=guitar, program=24, name=\"\", notes=368, bars=76)\n",
       "  ],\n",
       "  tempos=[\n",
       "    TempoEvent(bar=0, beat=0, tempo=10)\n",
       "    ...\n",
       "  ],\n",
       "  chords=[]\n",
       ")"
      ]
     },
     "execution_count": 37,
     "metadata": {},
     "output_type": "execute_result"
    }
   ],
   "source": [
    "seq_t = Music.from_tuples(tuples, config=config)\n",
    "seq_t"
   ]
  },
  {
   "cell_type": "markdown",
   "id": "damaged-thing",
   "metadata": {},
   "source": [
    "### from tokens"
   ]
  },
  {
   "cell_type": "code",
   "execution_count": 38,
   "id": "underlying-retailer",
   "metadata": {
    "scrolled": true
   },
   "outputs": [
    {
     "data": {
      "text/plain": [
       "Music(\n",
       "  name=\"\", \n",
       "  bars=76,\n",
       "  tracks=[\n",
       "    Track(inst_family=piano, program=0, name=\"\", notes=1429, bars=76)\n",
       "    Track(inst_family=bass, program=32, name=\"\", notes=182, bars=76)\n",
       "    Track(inst_family=drums, program=168, name=\"\", notes=1344, bars=76)\n",
       "    Track(inst_family=guitar, program=24, name=\"\", notes=368, bars=76)\n",
       "    Track(inst_family=ensemble, program=49, name=\"\", notes=65, bars=75)\n",
       "  ],\n",
       "  tempos=[\n",
       "    TempoEvent(bar=0, beat=0, tempo=10)\n",
       "    ...\n",
       "  ],\n",
       "  chords=[\n",
       "    ChordEvent(bar=2, beat=0, chord=G_M7)\n",
       "    ...\n",
       "  ]\n",
       ")"
      ]
     },
     "execution_count": 38,
     "metadata": {},
     "output_type": "execute_result"
    }
   ],
   "source": [
    "seq_t = Music.from_tokens(toks, config=config)\n",
    "seq_t"
   ]
  }
 ],
 "metadata": {
  "kernelspec": {
   "display_name": "Python 3",
   "language": "python",
   "name": "python3"
  },
  "language_info": {
   "codemirror_mode": {
    "name": "ipython",
    "version": 3
   },
   "file_extension": ".py",
   "mimetype": "text/x-python",
   "name": "python",
   "nbconvert_exporter": "python",
   "pygments_lexer": "ipython3",
   "version": "3.7.4"
  }
 },
 "nbformat": 4,
 "nbformat_minor": 5
}
